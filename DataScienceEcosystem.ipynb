{
 "cells": [
  {
   "cell_type": "markdown",
   "id": "4d584eeb-5418-4997-b275-6b6b33105867",
   "metadata": {
    "panel-layout": {
     "height": 51,
     "visible": true,
     "width": 100
    }
   },
   "source": [
    "# Data Science Tools and Ecosystem"
   ]
  },
  {
   "cell_type": "markdown",
   "id": "b69dffd0-7e1f-4e13-a73f-026783b7b0e5",
   "metadata": {},
   "source": [
    "In this notebook, Data Science Tools and Ecosystem are summarized."
   ]
  },
  {
   "cell_type": "markdown",
   "id": "b4b388e9-7d70-4bdf-84c0-851fa51d7e69",
   "metadata": {},
   "source": [
    "# Objectives:\n",
    "- List popular languages for Data Science\n",
    "- Tools used by Data Scientists\n",
    "- Libraries used by Data Scientists\n",
    "- Arithmetic expression execution in python"
   ]
  },
  {
   "cell_type": "markdown",
   "id": "423cd938-772a-4e55-92e4-ba013965be1c",
   "metadata": {},
   "source": [
    "## Author\n",
    "Swarupa Golla"
   ]
  },
  {
   "cell_type": "markdown",
   "id": "b172ac69-2c73-498d-a5d9-c5f993a09b83",
   "metadata": {
    "editable": true,
    "slideshow": {
     "slide_type": ""
    },
    "tags": []
   },
   "source": [
    "Some of the popular languages that Data Scientists use are:\n",
    "1. Python\n",
    "2. R\n",
    "3. SQL\n",
    "4. Scala"
   ]
  },
  {
   "cell_type": "markdown",
   "id": "462c3e5f-7806-4b4f-b018-99a72d8084eb",
   "metadata": {},
   "source": [
    "Some of the commonly used libraries used by Data Scientists include:\n",
    "1. NumPy\n",
    "2. Pandas\n",
    "3. Scikit-learn\n",
    "4. Seaborn"
   ]
  },
  {
   "cell_type": "markdown",
   "id": "7fdefbdb-3b01-48c6-995a-e0b6259d92ce",
   "metadata": {},
   "source": [
    " | Data Science Tools|\n",
    " |:------------------:|\n",
    " |Hadoop|\n",
    " |Tableau|\n",
    " |Apache Spark|\n"
   ]
  },
  {
   "cell_type": "markdown",
   "id": "729c2f4f-9e99-4ee9-9184-45862a2e30ac",
   "metadata": {},
   "source": [
    "### Below are a few examples of evaluating arithmetic expressions in Python"
   ]
  },
  {
   "cell_type": "code",
   "execution_count": 20,
   "id": "bc114b40-c0b1-466b-9e22-595fca8d3569",
   "metadata": {},
   "outputs": [
    {
     "data": {
      "text/plain": [
       "17"
      ]
     },
     "execution_count": 20,
     "metadata": {},
     "output_type": "execute_result"
    }
   ],
   "source": [
    "#This a simple arithmetic expression to mutiply then add integers\n",
    "(3*4)+5"
   ]
  },
  {
   "cell_type": "code",
   "execution_count": 22,
   "id": "626dd04c-0514-423c-bc49-1968f244ead3",
   "metadata": {},
   "outputs": [
    {
     "name": "stdout",
     "output_type": "stream",
     "text": [
      "200 minutes is equal to 3 hour(s) and 20 minute(s).\n"
     ]
    }
   ],
   "source": [
    "#This will convert 200 minutes to hours by diving by 60\n",
    "minutes = 200\n",
    "hours = minutes // 60  \n",
    "remaining_minutes = minutes % 60  \n",
    "\n",
    "\n",
    "print(f\"{minutes} minutes is equal to {hours} hour(s) and {remaining_minutes} minute(s).\")\n"
   ]
  },
  {
   "cell_type": "code",
   "execution_count": null,
   "id": "b8c0be71-3bb2-43a2-926f-2deb73274bb8",
   "metadata": {},
   "outputs": [],
   "source": []
  }
 ],
 "metadata": {
  "kernelspec": {
   "display_name": "Python 3 (ipykernel)",
   "language": "python",
   "name": "python3"
  },
  "language_info": {
   "codemirror_mode": {
    "name": "ipython",
    "version": 3
   },
   "file_extension": ".py",
   "mimetype": "text/x-python",
   "name": "python",
   "nbconvert_exporter": "python",
   "pygments_lexer": "ipython3",
   "version": "3.12.7"
  },
  "panel-cell-order": [
   "4d584eeb-5418-4997-b275-6b6b33105867"
  ]
 },
 "nbformat": 4,
 "nbformat_minor": 5
}
